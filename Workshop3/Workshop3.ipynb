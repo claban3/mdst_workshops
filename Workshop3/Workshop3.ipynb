{
 "cells": [
  {
   "cell_type": "code",
   "execution_count": 1,
   "metadata": {},
   "outputs": [],
   "source": [
    "# Problem 1\n",
    "import numpy as np\n",
    "import pandas as pd\n",
    "import matplotlib.pyplot as plt \n",
    "from scipy import stats"
   ]
  },
  {
   "cell_type": "code",
   "execution_count": 2,
   "metadata": {},
   "outputs": [
    {
     "data": {
      "text/html": [
       "<div>\n",
       "<style scoped>\n",
       "    .dataframe tbody tr th:only-of-type {\n",
       "        vertical-align: middle;\n",
       "    }\n",
       "\n",
       "    .dataframe tbody tr th {\n",
       "        vertical-align: top;\n",
       "    }\n",
       "\n",
       "    .dataframe thead th {\n",
       "        text-align: right;\n",
       "    }\n",
       "</style>\n",
       "<table border=\"1\" class=\"dataframe\">\n",
       "  <thead>\n",
       "    <tr style=\"text-align: right;\">\n",
       "      <th></th>\n",
       "      <th>ID</th>\n",
       "      <th>AdmissionLengthDays</th>\n",
       "      <th>Death_1</th>\n",
       "      <th>Admission_Type</th>\n",
       "      <th>Insurance_Type</th>\n",
       "      <th>EnglishLanguage_1</th>\n",
       "      <th>Religion_Type</th>\n",
       "      <th>Married_1</th>\n",
       "      <th>Race</th>\n",
       "      <th>Dx</th>\n",
       "    </tr>\n",
       "  </thead>\n",
       "  <tbody>\n",
       "    <tr>\n",
       "      <th>0</th>\n",
       "      <td>42862</td>\n",
       "      <td>4.277778</td>\n",
       "      <td>0</td>\n",
       "      <td>elective</td>\n",
       "      <td>private</td>\n",
       "      <td>1</td>\n",
       "      <td>episcopalian</td>\n",
       "      <td>1</td>\n",
       "      <td>white</td>\n",
       "      <td>mitral stenosis\\mitral valve replacement /sda</td>\n",
       "    </tr>\n",
       "    <tr>\n",
       "      <th>1</th>\n",
       "      <td>5967</td>\n",
       "      <td>26.122917</td>\n",
       "      <td>0</td>\n",
       "      <td>elective</td>\n",
       "      <td>private</td>\n",
       "      <td>0</td>\n",
       "      <td>catholic</td>\n",
       "      <td>1</td>\n",
       "      <td>white</td>\n",
       "      <td>duodenal mass/sda</td>\n",
       "    </tr>\n",
       "    <tr>\n",
       "      <th>2</th>\n",
       "      <td>50952</td>\n",
       "      <td>7.028472</td>\n",
       "      <td>1</td>\n",
       "      <td>emergency</td>\n",
       "      <td>medicare</td>\n",
       "      <td>1</td>\n",
       "      <td>catholic</td>\n",
       "      <td>0</td>\n",
       "      <td>asian - japanese</td>\n",
       "      <td>? serotonin syndrome</td>\n",
       "    </tr>\n",
       "    <tr>\n",
       "      <th>3</th>\n",
       "      <td>17138</td>\n",
       "      <td>34.187500</td>\n",
       "      <td>0</td>\n",
       "      <td>elective</td>\n",
       "      <td>medicare</td>\n",
       "      <td>1</td>\n",
       "      <td>catholic</td>\n",
       "      <td>1</td>\n",
       "      <td>white</td>\n",
       "      <td>abdominal aortic aneurysm/sda</td>\n",
       "    </tr>\n",
       "    <tr>\n",
       "      <th>4</th>\n",
       "      <td>27703</td>\n",
       "      <td>6.165972</td>\n",
       "      <td>0</td>\n",
       "      <td>elective</td>\n",
       "      <td>government</td>\n",
       "      <td>0</td>\n",
       "      <td>protestant quaker</td>\n",
       "      <td>0</td>\n",
       "      <td>black/african american</td>\n",
       "      <td>absence/sda</td>\n",
       "    </tr>\n",
       "  </tbody>\n",
       "</table>\n",
       "</div>"
      ],
      "text/plain": [
       "      ID  AdmissionLengthDays  Death_1 Admission_Type Insurance_Type  \\\n",
       "0  42862             4.277778        0       elective        private   \n",
       "1   5967            26.122917        0       elective        private   \n",
       "2  50952             7.028472        1      emergency       medicare   \n",
       "3  17138            34.187500        0       elective       medicare   \n",
       "4  27703             6.165972        0       elective     government   \n",
       "\n",
       "   EnglishLanguage_1      Religion_Type  Married_1                    Race  \\\n",
       "0                  1       episcopalian          1                   white   \n",
       "1                  0           catholic          1                   white   \n",
       "2                  1           catholic          0        asian - japanese   \n",
       "3                  1           catholic          1                   white   \n",
       "4                  0  protestant quaker          0  black/african american   \n",
       "\n",
       "                                                Dx  \n",
       "0    mitral stenosis\\mitral valve replacement /sda  \n",
       "1                                duodenal mass/sda  \n",
       "2                             ? serotonin syndrome  \n",
       "3                    abdominal aortic aneurysm/sda  \n",
       "4                                      absence/sda  "
      ]
     },
     "execution_count": 2,
     "metadata": {},
     "output_type": "execute_result"
    }
   ],
   "source": [
    "# Problem 2\n",
    "# Load Hospital Data into a df\n",
    "hospital_file = \"HospitalAdmissionsData.csv\"\n",
    "df = pd.read_csv(hospital_file)\n",
    "df.head()"
   ]
  },
  {
   "cell_type": "code",
   "execution_count": 4,
   "metadata": {},
   "outputs": [
    {
     "data": {
      "text/plain": [
       "Index(['ID', 'AdmissionLengthDays', 'Death_1', 'Admission_Type',\n",
       "       'Insurance_Type', 'EnglishLanguage_1', 'Religion_Type', 'Married_1',\n",
       "       'Race', 'Dx'],\n",
       "      dtype='object')"
      ]
     },
     "execution_count": 4,
     "metadata": {},
     "output_type": "execute_result"
    }
   ],
   "source": [
    "# Problem 3a\n",
    "# What are the columns\n",
    "df.columns"
   ]
  },
  {
   "cell_type": "code",
   "execution_count": 6,
   "metadata": {},
   "outputs": [
    {
     "name": "stdout",
     "output_type": "stream",
     "text": [
      "<class 'pandas.core.frame.DataFrame'>\n",
      "RangeIndex: 58863 entries, 0 to 58862\n",
      "Data columns (total 10 columns):\n",
      "ID                     58863 non-null int64\n",
      "AdmissionLengthDays    58863 non-null float64\n",
      "Death_1                58863 non-null int64\n",
      "Admission_Type         58863 non-null object\n",
      "Insurance_Type         58863 non-null object\n",
      "EnglishLanguage_1      58863 non-null int64\n",
      "Religion_Type          58408 non-null object\n",
      "Married_1              58863 non-null int64\n",
      "Race                   58863 non-null object\n",
      "Dx                     58863 non-null object\n",
      "dtypes: float64(1), int64(4), object(5)\n",
      "memory usage: 4.5+ MB\n"
     ]
    }
   ],
   "source": [
    "# Problem 3b\n",
    "# What are the column types\n",
    "df.info()"
   ]
  },
  {
   "cell_type": "code",
   "execution_count": 7,
   "metadata": {},
   "outputs": [
    {
     "data": {
      "text/plain": [
       "'\\nProblem 3bc\\nfloat64:\\n    AdmissionLengthDays\\n\\nint64:\\n    ID\\n    Death_1\\n    EnglishLanguage_1\\n    Married_1\\n\\nobject:\\n    Admission_Type\\n    Insurance_Type\\n    Religion_Type\\n    Race\\n    Dx\\n'"
      ]
     },
     "execution_count": 7,
     "metadata": {},
     "output_type": "execute_result"
    }
   ],
   "source": [
    "\"\"\"\n",
    "Problem 3bc\n",
    "float64:\n",
    "    AdmissionLengthDays\n",
    "\n",
    "int64:\n",
    "    ID\n",
    "    Death_1\n",
    "    EnglishLanguage_1\n",
    "    Married_1\n",
    "\n",
    "object:\n",
    "    Admission_Type\n",
    "    Insurance_Type\n",
    "    Religion_Type\n",
    "    Race\n",
    "    Dx\n",
    "\"\"\""
   ]
  },
  {
   "cell_type": "code",
   "execution_count": 14,
   "metadata": {},
   "outputs": [
    {
     "data": {
      "text/plain": [
       "array(['private', 'medicare', 'government', 'medicaid', 'self pay'],\n",
       "      dtype=object)"
      ]
     },
     "execution_count": 14,
     "metadata": {},
     "output_type": "execute_result"
    }
   ],
   "source": [
    "# Problem 3d\n",
    "df.Insurance_Type.unique()"
   ]
  },
  {
   "cell_type": "code",
   "execution_count": 16,
   "metadata": {},
   "outputs": [
    {
     "data": {
      "text/plain": [
       "count    58863.000000\n",
       "mean        10.138978\n",
       "std         12.465611\n",
       "min         -0.945139\n",
       "25%          3.743056\n",
       "50%          6.465972\n",
       "75%         11.798264\n",
       "max        294.660417\n",
       "Name: AdmissionLengthDays, dtype: float64"
      ]
     },
     "execution_count": 16,
     "metadata": {},
     "output_type": "execute_result"
    }
   ],
   "source": [
    "# Problem 3e\n",
    "df.AdmissionLengthDays.describe()"
   ]
  },
  {
   "cell_type": "code",
   "execution_count": 32,
   "metadata": {},
   "outputs": [
    {
     "data": {
      "text/plain": [
       "newborn                                               7823\n",
       "pneumonia                                             1566\n",
       "sepsis                                                1184\n",
       "congestive heart failure                               928\n",
       "coronary artery disease                                840\n",
       "                                                      ... \n",
       "s/p infarct\\cardiac cath                                 1\n",
       "shortness of breath;rule-out myocardial infraction       1\n",
       "hypernatremia,hypothermia                                1\n",
       "fournier ganggrene                                       1\n",
       "gastroparesis,hypertension                               1\n",
       "Name: Dx, Length: 15647, dtype: int64"
      ]
     },
     "execution_count": 32,
     "metadata": {},
     "output_type": "execute_result"
    }
   ],
   "source": [
    "# Problem 3f\n",
    "df.Admission_Type.value_counts()\n",
    "df.Insurance_Type.value_counts()\n",
    "df.Religion_Type.value_counts()\n",
    "df.Race.value_counts()\n",
    "df.Dx.value_counts()"
   ]
  },
  {
   "cell_type": "code",
   "execution_count": 33,
   "metadata": {},
   "outputs": [
    {
     "data": {
      "text/plain": [
       "'\\nMost Common Values:\\n\\nAdmission_Type\\n    emergency\\n\\nInsurance\\n    medicare\\n    \\nReligion_Type\\n    catholic\\n\\nRace\\n    white\\n\\nDx\\n    newborn\\n'"
      ]
     },
     "execution_count": 33,
     "metadata": {},
     "output_type": "execute_result"
    }
   ],
   "source": [
    "\"\"\"\n",
    "Most Common Values:\n",
    "\n",
    "Admission_Type\n",
    "    emergency\n",
    "\n",
    "Insurance\n",
    "    medicare\n",
    "    \n",
    "Religion_Type\n",
    "    catholic\n",
    "\n",
    "Race\n",
    "    white\n",
    "\n",
    "Dx\n",
    "    newborn\n",
    "\"\"\""
   ]
  },
  {
   "cell_type": "code",
   "execution_count": 49,
   "metadata": {},
   "outputs": [
    {
     "data": {
      "text/plain": [
       "Text(0.5, 1.0, 'Histogram of AdmissionLengthDays')"
      ]
     },
     "execution_count": 49,
     "metadata": {},
     "output_type": "execute_result"
    },
    {
     "data": {
      "image/png": "[encoded data removed]",
      "text/plain": [
       "<Figure size 432x288 with 1 Axes>"
      ]
     },
     "metadata": {
      "needs_background": "light"
     },
     "output_type": "display_data"
    }
   ],
   "source": [
    "# Problem 3g\n",
    "df.hist(column=\"AdmissionLengthDays\", bins=40)\n",
    "plt.xlabel(\"Admission Length in Days\")\n",
    "plt.ylabel(\"Count of Admission Length\")\n",
    "\n",
    "plt.title(\"Histogram of AdmissionLengthDays\")"
   ]
  },
  {
   "cell_type": "code",
   "execution_count": 51,
   "metadata": {},
   "outputs": [
    {
     "data": {
      "text/plain": [
       "Text(0.5, 1.0, 'Histogram of AdmissionLengthDays')"
      ]
     },
     "execution_count": 51,
     "metadata": {},
     "output_type": "execute_result"
    },
    {
     "data": {
      "image/png": "[encoded data removed]",
      "text/plain": [
       "<Figure size 432x288 with 1 Axes>"
      ]
     },
     "metadata": {
      "needs_background": "light"
     },
     "output_type": "display_data"
    }
   ],
   "source": [
    "# Problem 3g\n",
    "df.hist(column=\"AdmissionLengthDays\", bins=40)\n",
    "plt.yscale(\"log\")\n",
    "plt.xlabel(\"Admission Length in Days\")\n",
    "plt.ylabel(\"Log of Admission Length Count\")\n",
    "plt.title(\"Histogram of AdmissionLengthDays\")\n"
   ]
  },
  {
   "cell_type": "code",
   "execution_count": 75,
   "metadata": {},
   "outputs": [
    {
     "data": {
      "text/plain": [
       "'\\nThe admission length of people who died is comparatively shorter than \\nthose who did not die. Maybe the death cuts the admission time short.\\n'"
      ]
     },
     "execution_count": 75,
     "metadata": {},
     "output_type": "execute_result"
    },
    {
     "data": {
      "image/png": "[encoded data removed]",
      "text/plain": [
       "<Figure size 432x288 with 2 Axes>"
      ]
     },
     "metadata": {
      "needs_background": "light"
     },
     "output_type": "display_data"
    }
   ],
   "source": [
    "# Problem 3h\n",
    "fig, axes = plt.subplots(nrows=1, ncols=2, sharex=True, sharey=True)\n",
    "df.hist(column=\"AdmissionLengthDays\", by=df.Death_1, ax=axes)\n",
    "fig.text(0.25, 1, \"Histogram of AdmissionLength Days by Death\")\n",
    "fig.text(0.35, 0, \"Admission Length in Days\")\n",
    "\n",
    "plt.yscale('log')\n",
    "\"\"\"\n",
    "The admission length of people who died is comparatively shorter than \n",
    "those who did not die.\n",
    "\"\"\""
   ]
  },
  {
   "cell_type": "code",
   "execution_count": 94,
   "metadata": {},
   "outputs": [
    {
     "data": {
      "text/plain": [
       "'\\nThe death count for medicare and private are the highest.\\nThis makes sense since medicare is for seniors, so they \\njust generally have a higher risk of dying, given their oldness.\\n\\nPrivate insurance is the most prevalent insurance type in general, \\nso there is just a larger pool of people from which to die.\\n'"
      ]
     },
     "execution_count": 94,
     "metadata": {},
     "output_type": "execute_result"
    },
    {
     "data": {
      "image/png": "[encoded data removed]",
      "text/plain": [
       "<Figure size 432x288 with 1 Axes>"
      ]
     },
     "metadata": {
      "needs_background": "light"
     },
     "output_type": "display_data"
    }
   ],
   "source": [
    "# 3i\n",
    "ins_death_series = df.groupby(\"Insurance_Type\")[\"Death_1\"].count()\n",
    "ins_death_series.plot.bar()\n",
    "plt.ylabel(\"Count of Deaths\")\n",
    "plt.xlabel(\"Insurance Type\")\n",
    "plt.title(\"Death Count per Insurance Type\")\n",
    "\n",
    "\"\"\"\n",
    "The death count for medicare and private are the highest.\n",
    "This makes sense since medicare is for seniors, so they \n",
    "just generally have a higher risk of dying, given their oldness.\n",
    "\n",
    "Private insurance is the most prevalent insurance type in general, \n",
    "so there is just a larger pool of people from which to die.\n",
    "\"\"\""
   ]
  },
  {
   "cell_type": "code",
   "execution_count": 137,
   "metadata": {},
   "outputs": [
    {
     "data": {
      "image/png": "[encoded data removed]",
      "text/plain": [
       "<Figure size 432x288 with 3 Axes>"
      ]
     },
     "metadata": {},
     "output_type": "display_data"
    }
   ],
   "source": [
    "# Plotting with Matplotlib\n",
    "x = np.linspace(0, 10, 100)\n",
    "y1, y2, y3 = np.cos(x), np.cos(x + 1), np.cos(x + 2)\n",
    "names = ['Signal 1', 'Signal 2', 'Signal 3']\n",
    "\n",
    "ax1 = plt.subplot(311)\n",
    "ax1.set_title(\"Signal 1\")\n",
    "ax1 = plt.plot(x, y1, color=\"black\", linewidth=0.7)\n",
    "plt.tick_params(\n",
    "    axis='both',\n",
    "    which='both',\n",
    "    bottom=False,\n",
    "    top=False,\n",
    "    left=False,\n",
    "    right=False,\n",
    "    labelbottom=False,\n",
    "    labelleft=False,\n",
    "    labelright=False\n",
    ")\n",
    "\n",
    "ax2 = plt.subplot(312)\n",
    "ax2.set_title(\"Signal 2\")\n",
    "ax2 = plt.plot(x, y2, color=\"black\", linewidth=0.7)\n",
    "plt.tick_params(\n",
    "    axis='both',\n",
    "    which='both',\n",
    "    bottom=False,\n",
    "    top=False,\n",
    "    left=False,\n",
    "    right=False,\n",
    "    labelbottom=False,\n",
    "    labelleft=False,\n",
    "    labelright=False\n",
    ")\n",
    "\n",
    "\n",
    "ax3 = plt.subplot(313)\n",
    "ax3.set_title(\"Signal 3\")\n",
    "ax3 = plt.plot(x, y3, color=\"black\", linewidth=0.7)\n",
    "plt.tick_params(\n",
    "    axis='both',\n",
    "    which='both',\n",
    "    bottom=False,\n",
    "    top=False,\n",
    "    left=False,\n",
    "    right=False,\n",
    "    labelbottom=False,\n",
    "    labelleft=False,\n",
    "    labelright=False\n",
    ")\n",
    "\n",
    "plt.tight_layout()\n",
    "plt.show()"
   ]
  }
 ],
 "metadata": {
  "kernelspec": {
   "display_name": "Python 3",
   "language": "python",
   "name": "python3"
  },
  "language_info": {
   "codemirror_mode": {
    "name": "ipython",
    "version": 3
   },
   "file_extension": ".py",
   "mimetype": "text/x-python",
   "name": "python",
   "nbconvert_exporter": "python",
   "pygments_lexer": "ipython3",
   "version": "3.6.10"
  }
 },
 "nbformat": 4,
 "nbformat_minor": 4
}
